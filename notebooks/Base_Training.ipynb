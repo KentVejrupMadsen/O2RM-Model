{
 "cells": [
  {
   "cell_type": "markdown",
   "id": "ea6629d8",
   "metadata": {},
   "source": [
    "# Training"
   ]
  },
  {
   "cell_type": "code",
   "execution_count": 1,
   "metadata": {},
   "outputs": [
    {
     "name": "stdout",
     "output_type": "stream",
     "text": [
      "/bin/bash: /home/vulgrim/miniconda3/envs/tensorflow/lib/libtinfo.so.6: no version information available (required by /bin/bash)\n",
      "Note: you may need to restart the kernel to use updated packages.\n",
      "/bin/bash: /home/vulgrim/miniconda3/envs/tensorflow/lib/libtinfo.so.6: no version information available (required by /bin/bash)\n",
      "Note: you may need to restart the kernel to use updated packages.\n",
      "/bin/bash: /home/vulgrim/miniconda3/envs/tensorflow/lib/libtinfo.so.6: no version information available (required by /bin/bash)\n",
      "Note: you may need to restart the kernel to use updated packages.\n",
      "/bin/bash: /home/vulgrim/miniconda3/envs/tensorflow/lib/libtinfo.so.6: no version information available (required by /bin/bash)\n",
      "Note: you may need to restart the kernel to use updated packages.\n",
      "/bin/bash: /home/vulgrim/miniconda3/envs/tensorflow/lib/libtinfo.so.6: no version information available (required by /bin/bash)\n",
      "Note: you may need to restart the kernel to use updated packages.\n",
      "/bin/bash: /home/vulgrim/miniconda3/envs/tensorflow/lib/libtinfo.so.6: no version information available (required by /bin/bash)\n",
      "Note: you may need to restart the kernel to use updated packages.\n",
      "/bin/bash: /home/vulgrim/miniconda3/envs/tensorflow/lib/libtinfo.so.6: no version information available (required by /bin/bash)\n",
      "Note: you may need to restart the kernel to use updated packages.\n",
      "/bin/bash: /home/vulgrim/miniconda3/envs/tensorflow/lib/libtinfo.so.6: no version information available (required by /bin/bash)\n",
      "Note: you may need to restart the kernel to use updated packages.\n"
     ]
    }
   ],
   "source": [
    "%pip -q install wheel\n",
    "%pip -q install pillow\n",
    "\n",
    "%pip -q install ipympl \n",
    "%pip -q install matplotlib \n",
    "\n",
    "%pip -q install wandb \n",
    "%pip -q install numpy\n",
    "%pip -q install keras\n",
    "%pip -q install tensorflow \n"
   ]
  },
  {
   "cell_type": "code",
   "execution_count": 2,
   "metadata": {},
   "outputs": [
    {
     "data": {
      "text/html": [
       "\n",
       "      <iframe id=\"tensorboard-frame-2e7d88d532a61290\" width=\"100%\" height=\"800\" frameborder=\"0\">\n",
       "      </iframe>\n",
       "      <script>\n",
       "        (function() {\n",
       "          const frame = document.getElementById(\"tensorboard-frame-2e7d88d532a61290\");\n",
       "          const url = new URL(\"/\", window.location);\n",
       "          const port = 6006;\n",
       "          if (port) {\n",
       "            url.port = port;\n",
       "          }\n",
       "          frame.src = url;\n",
       "        })();\n",
       "      </script>\n",
       "    "
      ],
      "text/plain": [
       "<IPython.core.display.HTML object>"
      ]
     },
     "metadata": {},
     "output_type": "display_data"
    }
   ],
   "source": [
    "%matplotlib ipympl\n",
    "\n",
    "%load_ext tensorboard\n",
    "%tensorboard --logdir /tmp/tensorboard"
   ]
  },
  {
   "cell_type": "markdown",
   "id": "d2165509",
   "metadata": {},
   "source": [
    "## Packages"
   ]
  },
  {
   "cell_type": "code",
   "execution_count": 3,
   "id": "c5a720cc",
   "metadata": {},
   "outputs": [],
   "source": [
    "from os.path                \\\n",
    "    import                  \\\n",
    "    isdir\n",
    "\n",
    "from random                 \\\n",
    "    import                  \\\n",
    "    SystemRandom"
   ]
  },
  {
   "cell_type": "code",
   "execution_count": 4,
   "id": "d99686c6",
   "metadata": {},
   "outputs": [
    {
     "name": "stderr",
     "output_type": "stream",
     "text": [
      "2023-08-13 17:38:53.283423: W tensorflow/compiler/tf2tensorrt/utils/py_utils.cc:38] TF-TRT Warning: Could not find TensorRT\n"
     ]
    }
   ],
   "source": [
    "import wandb\n",
    "\n",
    "from wandb.keras            \\\n",
    "    import                  \\\n",
    "    WandbMetricsLogger,     \\\n",
    "    WandbCallback"
   ]
  },
  {
   "cell_type": "code",
   "execution_count": 5,
   "id": "42ad4b5a",
   "metadata": {},
   "outputs": [],
   "source": [
    "from keras.utils                \\\n",
    "    import                      \\\n",
    "    image_dataset_from_directory\n",
    "\n",
    "from keras.backend              \\\n",
    "    import                      \\\n",
    "    clear_session\n",
    "\n",
    "from keras.models               \\\n",
    "    import                      \\\n",
    "    Sequential\n",
    "\n",
    "from keras.layers               \\\n",
    "    import                      \\\n",
    "    RandomFlip,                 \\\n",
    "    RandomZoom,                 \\\n",
    "    RandomContrast,             \\\n",
    "    RandomBrightness,           \\\n",
    "    RandomRotation\n",
    "\n",
    "from keras.callbacks            \\\n",
    "    import TensorBoard"
   ]
  },
  {
   "cell_type": "code",
   "execution_count": 6,
   "id": "7c5d97c9",
   "metadata": {},
   "outputs": [],
   "source": [
    "import tensorflow\n",
    "\n",
    "from tensorflow.python.ops  \\\n",
    "  import summary_ops_v2\n"
   ]
  },
  {
   "cell_type": "code",
   "execution_count": 7,
   "id": "f225dd89",
   "metadata": {},
   "outputs": [],
   "source": [
    "from O2RMModel.RecognitionModel.model   \\\n",
    "    import Model                        \\\n",
    "    as RecognitionModel"
   ]
  },
  {
   "cell_type": "code",
   "execution_count": 8,
   "id": "47d52e88",
   "metadata": {},
   "outputs": [],
   "source": [
    "def zero() -> int:\n",
    "    return 0"
   ]
  },
  {
   "cell_type": "code",
   "execution_count": 9,
   "id": "ed392f70",
   "metadata": {},
   "outputs": [],
   "source": [
    "gpu_memory_growth: bool = False"
   ]
  },
  {
   "cell_type": "code",
   "execution_count": 10,
   "id": "606a3a67",
   "metadata": {},
   "outputs": [],
   "source": [
    "physical_devices = tensorflow.config.list_physical_devices(\n",
    "    str(\n",
    "        'gpu'\n",
    "    ).upper()\n",
    ")\n",
    "\n",
    "selected_physical_device = physical_devices[\n",
    "    zero()\n",
    "]\n",
    "\n",
    "tensorflow.config.experimental.set_memory_growth(\n",
    "    selected_physical_device,\n",
    "    gpu_memory_growth\n",
    ")\n"
   ]
  },
  {
   "cell_type": "code",
   "execution_count": 11,
   "id": "f10f802c",
   "metadata": {},
   "outputs": [],
   "source": [
    "def generate_seed():\n",
    "    return SystemRandom().randint(\n",
    "        1,\n",
    "        32767\n",
    "    )\n"
   ]
  },
  {
   "cell_type": "code",
   "execution_count": 12,
   "id": "8799cb26",
   "metadata": {},
   "outputs": [],
   "source": [
    "device_name = str('/') + str(\n",
    "    selected_physical_device.name[\n",
    "        len(\n",
    "            '/physical_device:'\n",
    "        )\n",
    "        :\n",
    "        len(\n",
    "            selected_physical_device.name\n",
    "        )\n",
    "    ]\n",
    ")"
   ]
  },
  {
   "cell_type": "code",
   "execution_count": 13,
   "id": "30515195",
   "metadata": {},
   "outputs": [],
   "source": [
    "dataset_seed: int = generate_seed()\n",
    "\n",
    "location_of_dataset: str = '/opt/dataset/numbers'\n",
    "location_of_model: str = '/opt/models/O2RM'\n",
    "\n",
    "width: int = 512\n",
    "height: int = 512\n",
    "channels: int = 3\n",
    "\n",
    "number_of_labels: int = 10\n",
    "\n",
    "batches: int = 32\n",
    "epochs: int = 6\n",
    "\n",
    "validation_split: float = 0.5\n",
    "\n",
    "use_multiprocessing: bool = True\n",
    "process_workers: int = 6\n",
    "is_using_tensorboard: bool = True"
   ]
  },
  {
   "cell_type": "code",
   "execution_count": 14,
   "id": "15063d52",
   "metadata": {},
   "outputs": [],
   "source": [
    "wandb_entity: str = 'designermadsen'\n",
    "wandb_project: str = 'O2RM'\n",
    "\n",
    "wandb_jobtype: str = 'Training'\n",
    "\n",
    "wandb_tags: list = [\n",
    "    'Nvidia',\n",
    "    'Linux',\n",
    "    'Ubuntu',\n",
    "    'Development',\n",
    "    'Random',\n",
    "    'test-driven',\n",
    "    'Bare-Metal',\n",
    "    'TensorFlow'   \n",
    "]\n",
    "\n",
    "wandb_use_callback: bool = False\n",
    "wandb_measure_metrics: bool = True\n",
    "wandb_compute_flops: bool = True"
   ]
  },
  {
   "cell_type": "code",
   "execution_count": 15,
   "id": "fc4f00b7",
   "metadata": {},
   "outputs": [],
   "source": [
    "configuration: dict = {\n",
    "    'vision': \n",
    "    {\n",
    "        'width': width,\n",
    "        'height': height,\n",
    "        'channels': channels\n",
    "    },\n",
    "\n",
    "    'dataset': \n",
    "    {\n",
    "        'number of labels': number_of_labels,\n",
    "        'batches': batches,\n",
    "        'epochs': epochs,\n",
    "        'seed': dataset_seed,\n",
    "        'using multiprocessing': use_multiprocessing,\n",
    "        'using tensorboard': is_using_tensorboard,\n",
    "        'workers': process_workers,\n",
    "    },\n",
    "\n",
    "    'wandb':\n",
    "    {\n",
    "        'job type': wandb_jobtype,\n",
    "        'tags': wandb_tags,\n",
    "        'measure metrics': wandb_measure_metrics,\n",
    "        'use callbacks': wandb_use_callback,\n",
    "        'compute flops': wandb_compute_flops\n",
    "    },\n",
    "\n",
    "    'gpu':\n",
    "    {\n",
    "        'memory growth': gpu_memory_growth\n",
    "    }\n",
    "}"
   ]
  },
  {
   "cell_type": "code",
   "execution_count": 16,
   "id": "4827a6d5",
   "metadata": {},
   "outputs": [],
   "source": [
    "training_dataset = None\n",
    "validation_dataset = None\n",
    "\n",
    "def get_training_dataset():\n",
    "    global training_dataset\n",
    "    return training_dataset\n",
    "\n",
    "def get_validation_dataset():\n",
    "    global validation_dataset\n",
    "    return validation_dataset"
   ]
  },
  {
   "cell_type": "code",
   "execution_count": 17,
   "id": "35cb2195",
   "metadata": {},
   "outputs": [],
   "source": [
    "def setup_wandb_callback():\n",
    "    global wandb_compute_flops\n",
    "\n",
    "    return WandbCallback(\n",
    "        monitor='val_loss', \n",
    "        verbose=0,\n",
    "    \n",
    "        save_weights_only=True,\n",
    "        log_weights=True,\n",
    "        log_gradients=True,\n",
    "        save_graph=True,\n",
    "    \n",
    "        save_model=True,\n",
    "    \n",
    "        training_data=get_training_dataset(),\n",
    "        validation_data=get_validation_dataset(),\n",
    "        log_evaluation=True,\n",
    "    \n",
    "        compute_flops=wandb_compute_flops,    \n",
    "        \n",
    "        input_type='image',\n",
    "        output_type='label',\n",
    "        \n",
    "        labels=get_training_dataset().class_names,\n",
    "        predictions=15\n",
    "    )            \n",
    "    "
   ]
  },
  {
   "cell_type": "code",
   "execution_count": 18,
   "id": "46ea9d1e",
   "metadata": {},
   "outputs": [],
   "source": [
    "def setup_wandb_metrics():\n",
    "    return WandbMetricsLogger()"
   ]
  },
  {
   "cell_type": "code",
   "execution_count": 19,
   "id": "a11d847f",
   "metadata": {},
   "outputs": [],
   "source": [
    "def setup_tensorboard():\n",
    "    return TensorBoard(\n",
    "        '/tmp/tensorboard',\n",
    "        histogram_freq=0,\n",
    "        write_graph=True,\n",
    "        write_images=True, \n",
    "        write_steps_per_second=True,\n",
    "        update_freq=True, \n",
    "        profile_batch=False,\n",
    "        embeddings_freq=0\n",
    "    )"
   ]
  },
  {
   "cell_type": "code",
   "execution_count": 20,
   "id": "44daf975",
   "metadata": {},
   "outputs": [],
   "source": [
    "def callbacks() -> list:\n",
    "    callback_list: list = list()\n",
    "\n",
    "    global                      \\\n",
    "        wandb_measure_metrics,  \\\n",
    "        wandb_use_callback,     \\\n",
    "        wandb_compute_flops,    \\\n",
    "        is_using_tensorboard\n",
    "\n",
    "    if is_using_tensorboard:\n",
    "        callback_list.append(\n",
    "            setup_tensorboard()\n",
    "        )\n",
    "\n",
    "    if wandb_measure_metrics:\n",
    "        callback_list.append(\n",
    "            setup_wandb_metrics()\n",
    "        )\n",
    "    \n",
    "    if wandb_use_callback:\n",
    "        callback_list.append(\n",
    "            setup_wandb_callback()\n",
    "        )\n",
    "\n",
    "    return callback_list"
   ]
  },
  {
   "cell_type": "code",
   "execution_count": 21,
   "id": "114fd38f",
   "metadata": {},
   "outputs": [],
   "source": [
    "training_history: list = list()\n",
    "\n",
    "def append_training_session(\n",
    "    history\n",
    ") -> None:\n",
    "    global training_history\n",
    "\n",
    "    training_history.append(\n",
    "        history.history\n",
    "    )"
   ]
  },
  {
   "cell_type": "markdown",
   "id": "7b03fe49",
   "metadata": {},
   "source": [
    "## Launch training session"
   ]
  },
  {
   "cell_type": "code",
   "execution_count": 22,
   "id": "dae5aac7",
   "metadata": {},
   "outputs": [
    {
     "name": "stderr",
     "output_type": "stream",
     "text": [
      "\u001b[34m\u001b[1mwandb\u001b[0m: \u001b[33mWARNING\u001b[0m Path /opt/programming/ORM-Model/notebooks/wandb/ wasn't writable, using system temp directory.\n",
      "wandb: WARNING Path /opt/programming/ORM-Model/notebooks/wandb/ wasn't writable, using system temp directory\n",
      "\u001b[34m\u001b[1mwandb\u001b[0m: \u001b[33mWARNING\u001b[0m Path /opt/programming/ORM-Model/notebooks/wandb/ wasn't writable, using system temp directory\n",
      "\u001b[34m\u001b[1mwandb\u001b[0m: Currently logged in as: \u001b[33mdesignermadsen\u001b[0m. Use \u001b[1m`wandb login --relogin`\u001b[0m to force relogin\n"
     ]
    },
    {
     "data": {
      "text/html": [
       "Tracking run with wandb version 0.15.8"
      ],
      "text/plain": [
       "<IPython.core.display.HTML object>"
      ]
     },
     "metadata": {},
     "output_type": "display_data"
    },
    {
     "data": {
      "text/html": [
       "Run data is saved locally in <code>/tmp/wandb/run-20230813_173859-xqm5xep1</code>"
      ],
      "text/plain": [
       "<IPython.core.display.HTML object>"
      ]
     },
     "metadata": {},
     "output_type": "display_data"
    },
    {
     "data": {
      "text/html": [
       "Syncing run <strong><a href='https://wandb.ai/designermadsen/O2RM/runs/xqm5xep1' target=\"_blank\">worldly-water-65</a></strong> to <a href='https://wandb.ai/designermadsen/O2RM' target=\"_blank\">Weights & Biases</a> (<a href='https://wandb.me/run' target=\"_blank\">docs</a>)<br/>"
      ],
      "text/plain": [
       "<IPython.core.display.HTML object>"
      ]
     },
     "metadata": {},
     "output_type": "display_data"
    },
    {
     "data": {
      "text/html": [
       " View project at <a href='https://wandb.ai/designermadsen/O2RM' target=\"_blank\">https://wandb.ai/designermadsen/O2RM</a>"
      ],
      "text/plain": [
       "<IPython.core.display.HTML object>"
      ]
     },
     "metadata": {},
     "output_type": "display_data"
    },
    {
     "data": {
      "text/html": [
       " View run at <a href='https://wandb.ai/designermadsen/O2RM/runs/xqm5xep1' target=\"_blank\">https://wandb.ai/designermadsen/O2RM/runs/xqm5xep1</a>"
      ],
      "text/plain": [
       "<IPython.core.display.HTML object>"
      ]
     },
     "metadata": {},
     "output_type": "display_data"
    },
    {
     "name": "stderr",
     "output_type": "stream",
     "text": [
      "2023-08-13 17:39:03.732411: W tensorflow/core/util/tensor_slice_reader.cc:97] Could not open /opt/models/O2RM: FAILED_PRECONDITION: /opt/models/O2RM; Is a directory: perhaps your file is in a different file format and you need to use a different restore operator?\n"
     ]
    },
    {
     "name": "stdout",
     "output_type": "stream",
     "text": [
      "Found 20000 files belonging to 10 classes.\n"
     ]
    },
    {
     "name": "stderr",
     "output_type": "stream",
     "text": [
      "\u001b[34m\u001b[1mwandb\u001b[0m: \u001b[33mWARNING\u001b[0m Found log directory outside of given root_logdir, dropping given root_logdir for event file in /tmp/tensorboard/train\n"
     ]
    },
    {
     "name": "stdout",
     "output_type": "stream",
     "text": [
      "Using 10000 files for training.\n",
      "Using 10000 files for validation.\n",
      "Epoch 1/6\n"
     ]
    },
    {
     "name": "stderr",
     "output_type": "stream",
     "text": [
      "2023-08-13 17:39:05.701791: W tensorflow/compiler/tf2tensorrt/utils/py_utils.cc:38] TF-TRT Warning: Could not find TensorRT\n",
      "2023-08-13 17:39:13.702068: W tensorflow/compiler/xla/service/gpu/llvm_gpu_backend/gpu_backend_lib.cc:543] Can't find libdevice directory ${CUDA_DIR}/nvvm/libdevice. This may result in compilation or runtime failures, if the program we try to run uses routines from libdevice.\n",
      "Searched for CUDA in the following directories:\n",
      "  ./cuda_sdk_lib\n",
      "  /usr/local/cuda-11.8\n",
      "  /usr/local/cuda\n",
      "  .\n",
      "You can choose the search directory by setting xla_gpu_cuda_data_dir in HloModule's DebugOptions.  For most apps, setting the environment variable XLA_FLAGS=--xla_gpu_cuda_data_dir=/path/to/cuda will work.\n"
     ]
    },
    {
     "name": "stdout",
     "output_type": "stream",
     "text": [
      "313/313 [==============================] - ETA: 0s - loss: 0.2737 - accuracy: 0.9104"
     ]
    },
    {
     "name": "stderr",
     "output_type": "stream",
     "text": [
      "\u001b[34m\u001b[1mwandb\u001b[0m: \u001b[33mWARNING\u001b[0m When using several event log directories, please call `wandb.tensorboard.patch(root_logdir=\"...\")` before `wandb.init`\n",
      "\u001b[34m\u001b[1mwandb\u001b[0m: \u001b[33mWARNING\u001b[0m Found log directory outside of given root_logdir, dropping given root_logdir for event file in /tmp/tensorboard/validation\n"
     ]
    },
    {
     "name": "stdout",
     "output_type": "stream",
     "text": [
      "313/313 [==============================] - 215s 629ms/step - loss: 0.2737 - accuracy: 0.9104 - val_loss: 0.3775 - val_accuracy: 0.8844\n",
      "Epoch 2/6\n",
      "313/313 [==============================] - 190s 607ms/step - loss: 0.1983 - accuracy: 0.9347 - val_loss: 0.2952 - val_accuracy: 0.9088\n",
      "Epoch 3/6\n",
      "313/313 [==============================] - 189s 601ms/step - loss: 0.1607 - accuracy: 0.9445 - val_loss: 0.2927 - val_accuracy: 0.9062\n",
      "Epoch 4/6\n",
      "313/313 [==============================] - 187s 598ms/step - loss: 0.1311 - accuracy: 0.9554 - val_loss: 0.2551 - val_accuracy: 0.9171\n",
      "Epoch 5/6\n",
      "313/313 [==============================] - 188s 599ms/step - loss: 0.1149 - accuracy: 0.9628 - val_loss: 0.2741 - val_accuracy: 0.9084\n",
      "Epoch 6/6\n",
      "313/313 [==============================] - 187s 596ms/step - loss: 0.1047 - accuracy: 0.9673 - val_loss: 0.2430 - val_accuracy: 0.9223\n",
      "INFO:tensorflow:Assets written to: /opt/models/O2RM/assets\n"
     ]
    },
    {
     "name": "stderr",
     "output_type": "stream",
     "text": [
      "INFO:tensorflow:Assets written to: /opt/models/O2RM/assets\n",
      "\u001b[34m\u001b[1mwandb\u001b[0m: Adding directory to artifact (/opt/models/O2RM)... Done. 0.2s\n"
     ]
    }
   ],
   "source": [
    "autotune = tensorflow.data.AUTOTUNE\n",
    "\n",
    "wandb.init(\n",
    "    entity=wandb_entity,\n",
    "    project=wandb_project,\n",
    "    config=configuration,\n",
    "    tags=wandb_tags,\n",
    "    job_type=wandb_jobtype,\n",
    "    reinit=True,\n",
    "    tensorboard=is_using_tensorboard,\n",
    "    save_code=False,\n",
    "    notes=\"\"\n",
    ")\n",
    "\n",
    "with tensorflow.device(\n",
    "    device_name\n",
    "):\n",
    "    # Setup of model\n",
    "    model = RecognitionModel(\n",
    "        width=width,\n",
    "        height=height,\n",
    "        channels=channels,\n",
    "        categories=number_of_labels\n",
    "    )\n",
    "\n",
    "    if isdir(\n",
    "        location_of_model\n",
    "    ):\n",
    "        model.load_weights(\n",
    "            location_of_model\n",
    "        )\n",
    "\n",
    "    training_dataset, validation_dataset = image_dataset_from_directory(\n",
    "        location_of_dataset,\n",
    "        validation_split=validation_split,\n",
    "        subset='both',\n",
    "        seed=dataset_seed,\n",
    "        image_size=(\n",
    "            height,\n",
    "            width\n",
    "        ),\n",
    "        batch_size=batches\n",
    "    )\n",
    "\n",
    "    wandb.log(\n",
    "        {\n",
    "            'training': get_training_dataset().class_names,\n",
    "            'validation': get_validation_dataset().class_names\n",
    "        }\n",
    "    )\n",
    "\n",
    "    history = model.fit(\n",
    "        training_dataset.prefetch(\n",
    "            buffer_size=autotune\n",
    "        ),\n",
    "        \n",
    "        validation_data=validation_dataset.prefetch(\n",
    "            buffer_size=autotune\n",
    "        ),\n",
    "\n",
    "        epochs=epochs,\n",
    "\n",
    "        callbacks=callbacks(),\n",
    "\n",
    "        use_multiprocessing=use_multiprocessing,\n",
    "        workers=process_workers\n",
    "    )\n",
    "\n",
    "    append_training_session(\n",
    "        history\n",
    "    )\n",
    "\n",
    "    model.save(\n",
    "        location_of_model,\n",
    "        save_format='tf',\n",
    "        overwrite=True\n",
    "    )\n",
    "\n",
    "    saved_model = wandb.Artifact(\n",
    "        \"o2rm_model\",\n",
    "        type=\"model\"\n",
    "    )\n",
    "\n",
    "    saved_model.add_dir(\n",
    "        location_of_model\n",
    "    )\n",
    "\n",
    "    wandb.log_artifact(\n",
    "        saved_model\n",
    "    )\n",
    "\n",
    "clear_session()"
   ]
  },
  {
   "cell_type": "code",
   "execution_count": 1,
   "id": "3a5fa5d8",
   "metadata": {},
   "outputs": [
    {
     "ename": "NameError",
     "evalue": "name 'wandb' is not defined",
     "output_type": "error",
     "traceback": [
      "\u001b[0;31m---------------------------------------------------------------------------\u001b[0m",
      "\u001b[0;31mNameError\u001b[0m                                 Traceback (most recent call last)",
      "Cell \u001b[0;32mIn[1], line 1\u001b[0m\n\u001b[0;32m----> 1\u001b[0m wandb\u001b[39m.\u001b[39mfinish()\n\u001b[1;32m      2\u001b[0m summary_ops_v2\u001b[39m.\u001b[39mflush()\n",
      "\u001b[0;31mNameError\u001b[0m: name 'wandb' is not defined"
     ]
    }
   ],
   "source": [
    "wandb.finish()\n",
    "summary_ops_v2.flush()"
   ]
  }
 ],
 "metadata": {
  "kernelspec": {
   "display_name": "Python 3 (ipykernel)",
   "language": "python",
   "name": "python3"
  }
 },
 "nbformat": 4,
 "nbformat_minor": 5
}
